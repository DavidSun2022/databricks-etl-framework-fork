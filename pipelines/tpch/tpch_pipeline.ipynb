{
 "cells": [
  {
   "cell_type": "markdown",
   "metadata": {
    "application/vnd.databricks.v1+cell": {
     "cellMetadata": {},
     "inputWidgets": {},
     "nuid": "9a626959-61c8-4bba-84d2-2a4ecab1f7ec",
     "showTitle": false,
     "title": ""
    }
   },
   "source": [
    "# DLT pipeline\n",
    "\n",
    "This Delta Live Tables (DLT) definition is executed using a pipeline defined in `resources/tpch/pipeline.yml`."
   ]
  },
  {
   "cell_type": "markdown",
   "metadata": {},
   "source": [
    "## Ingest into Delta"
   ]
  },
  {
   "cell_type": "markdown",
   "metadata": {
    "application/vnd.databricks.v1+cell": {
     "cellMetadata": {},
     "inputWidgets": {},
     "nuid": "392bc184-04c4-4ed8-a2b5-d9fe487d497d",
     "showTitle": false,
     "title": ""
    }
   },
   "source": [
    "Define sources to ingest."
   ]
  },
  {
   "cell_type": "code",
   "execution_count": null,
   "metadata": {
    "application/vnd.databricks.v1+cell": {
     "cellMetadata": {
      "byteLimit": 2048000,
      "rowLimit": 10000
     },
     "inputWidgets": {},
     "nuid": "d65b8448-73a6-4c0e-b78a-6e2b141ae325",
     "showTitle": false,
     "title": ""
    }
   },
   "outputs": [],
   "source": [
    "source_catalog = \"samples\"\n",
    "source_schema = \"tpch\"\n",
    "\n",
    "# Define current table name and new table name.\n",
    "tpch_tables = {\n",
    "    \"customer\": \"customer_raw\",\n",
    "    \"lineitem\": \"lineitem_raw\",\n",
    "    \"nation\": \"nation_raw\",\n",
    "    \"orders\": \"orders_raw\",\n",
    "    \"part\": \"part_raw\",\n",
    "    \"partsupp\": \"partsupp_raw\",\n",
    "    \"region\": \"region_raw\",\n",
    "    \"supplier\": \"supplier_raw\",\n",
    "}"
   ]
  },
  {
   "cell_type": "markdown",
   "metadata": {
    "application/vnd.databricks.v1+cell": {
     "cellMetadata": {},
     "inputWidgets": {},
     "nuid": "93545f25-add1-406d-91a2-436d7e3354fe",
     "showTitle": false,
     "title": ""
    }
   },
   "source": [
    "Define Python inner function. This is leveraging the [DLT metaprogramming pattern](\"https://docs.databricks.com/en/delta-live-tables/create-multiple-tables.html\")."
   ]
  },
  {
   "cell_type": "code",
   "execution_count": null,
   "metadata": {
    "application/vnd.databricks.v1+cell": {
     "cellMetadata": {
      "byteLimit": 2048000,
      "rowLimit": 10000
     },
     "inputWidgets": {},
     "nuid": "3fc19dba-61fd-4a89-8f8c-24fee63bfb14",
     "showTitle": false,
     "title": ""
    }
   },
   "outputs": [],
   "source": [
    "import dlt\n",
    "\n",
    "\n",
    "def create_table(src_catalog, src_schema, src_table, target_table):\n",
    "    @dlt.table(name=target_table)\n",
    "    def t():\n",
    "        return spark.read.table(f\"{src_catalog}.{src_schema}.{src_table}\")\n",
    "\n",
    "\n",
    "for source_table, target_table in tpch_tables.items():\n",
    "    create_table(source_catalog, source_schema, source_table, target_table)"
   ]
  },
  {
   "cell_type": "markdown",
   "metadata": {},
   "source": [
    "## Apply Transformations"
   ]
  },
  {
   "cell_type": "code",
   "execution_count": null,
   "metadata": {},
   "outputs": [],
   "source": [
    "@dlt.table(name=target_table)\n",
    "def t():\n",
    "    df = spark.read.table(f\"LIVE.customer_raw\")\n",
    "    return df"
   ]
  }
 ],
 "metadata": {
  "application/vnd.databricks.v1+notebook": {
   "dashboards": [],
   "language": "python",
   "notebookMetadata": {
    "pythonIndentUnit": 2
   },
   "notebookName": "dlt_pipeline",
   "widgets": {}
  },
  "kernelspec": {
   "display_name": "Python 3",
   "language": "python",
   "name": "python3"
  },
  "language_info": {
   "name": "python",
   "version": "3.11.4"
  }
 },
 "nbformat": 4,
 "nbformat_minor": 0
}
