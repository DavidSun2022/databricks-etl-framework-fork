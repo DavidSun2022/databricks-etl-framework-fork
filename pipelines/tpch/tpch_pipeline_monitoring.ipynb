{
 "cells": [
  {
   "cell_type": "code",
   "execution_count": null,
   "metadata": {},
   "outputs": [],
   "source": [
    "from dlt import on_event_hook\n",
    "\n",
    "@on_event_hook\n",
    "def my_event_hook(event):\n",
    "    print('Event: ', event)"
   ]
  }
 ],
 "metadata": {
  "language_info": {
   "name": "python"
  }
 },
 "nbformat": 4,
 "nbformat_minor": 2
}
