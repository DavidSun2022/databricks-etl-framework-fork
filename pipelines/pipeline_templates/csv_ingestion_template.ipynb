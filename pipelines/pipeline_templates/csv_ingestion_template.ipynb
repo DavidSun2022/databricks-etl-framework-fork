{
 "cells": [
  {
   "cell_type": "markdown",
   "metadata": {
    "application/vnd.databricks.v1+cell": {
     "cellMetadata": {},
     "inputWidgets": {},
     "nuid": "d24da977-03b8-4f77-9811-a32b90134dec",
     "showTitle": false,
     "title": ""
    }
   },
   "source": [
    "### [User Input Required] Read CSV Source with Autoloader.\n",
    "\n",
    "__Common data loading patterns__: https://docs.databricks.com/en/ingestion/auto-loader/patterns.html\n",
    "\n",
    "__Autoloader Options for CSV__: https://docs.databricks.com/en/ingestion/auto-loader/options.html#csv-options\n",
    "\n",
    "__Common Autoloader Options__: https://docs.databricks.com/en/ingestion/auto-loader/options.html#common-auto-loader-options\n",
    "\n",
    "__Schema Evolution Modes__: https://docs.databricks.com/en/ingestion/auto-loader/schema.html#how-does-auto-loader-schema-evolution-work"
   ]
  },
  {
   "cell_type": "code",
   "execution_count": 0,
   "metadata": {
    "application/vnd.databricks.v1+cell": {
     "cellMetadata": {
      "byteLimit": 2048000,
      "rowLimit": 10000
     },
     "inputWidgets": {},
     "nuid": "f0f4b816-7178-45c4-86bb-4de2bef0a250",
     "showTitle": false,
     "title": ""
    }
   },
   "outputs": [],
   "source": [
    "\n",
    "from pipelines.shared_utils.autoloader_helper import generated_autoloader_schema_path\n",
    "\n",
    "# [User Input Required] Set the ingest location.\n",
    "ingest_location = \"dbfs:/databricks-datasets/nyctaxi/tripdata/yellow\"\n",
    "\n",
    "# [User Input Required] Configure schema evolution and rescue data.\n",
    "schema_evolution_mode = \"addNewColumns\"\n",
    "rescue_data_column_name = \"_rescued_data\"\n",
    "\n",
    "\n",
    "# Auto-Generate Schema Location Based on Ingest Location\n",
    "autoloader_schema_location = generated_autoloader_schema_path(ingest_location)\n",
    "print(\"Autoloader Schema Location: \" +autoloader_schema_location)\n",
    "\n",
    "# [User Input Required] Configure Autoloader settings\n",
    "df = (\n",
    "    spark.readStream.format(\"cloudFiles\")\n",
    "    .option(\"cloudFiles.schemaLocation\", autoloader_schema_location) # Required\n",
    "    # [Input Required] Common Autoloader Settings\n",
    "    .option(\"cloudFiles.includeExistingFiles\", \"true\")\n",
    "    .option(\"cloudFiles.schemaEvolutionMode\", \"rescue\")\n",
    "    .option(\"cloudFiles.maxFilesPerTrigger\", \"1000\")\n",
    "    # [Input Required] Error Handling Settings\n",
    "    .option(\"ignoreCorruptFiles\", \"false\")\n",
    "    # [Input Required] CSV Autoloader Settings\n",
    "    .option(\"cloudFiles.format\", \"csv\")\n",
    "    .option(\"header\", \"true\")\n",
    "    .option(\"inferSchema\",\"true\")\n",
    "    .load(ingest_location)\n",
    ")"
   ]
  },
  {
   "cell_type": "markdown",
   "metadata": {
    "application/vnd.databricks.v1+cell": {
     "cellMetadata": {},
     "inputWidgets": {},
     "nuid": "43386b52-0388-418a-b05f-e494aca6bd69",
     "showTitle": false,
     "title": ""
    }
   },
   "source": [
    "%md\n",
    "### [User Input Required] Optional Transformations (SQL or Python)"
   ]
  },
  {
   "cell_type": "code",
   "execution_count": 0,
   "metadata": {
    "application/vnd.databricks.v1+cell": {
     "cellMetadata": {},
     "inputWidgets": {},
     "nuid": "8e59c734-7c32-4651-a0ec-c5351d3db537",
     "showTitle": false,
     "title": ""
    }
   },
   "outputs": [],
   "source": [
    "\n",
    "df.createOrReplaceTempView(\"tmp_view\")"
   ]
  },
  {
   "cell_type": "code",
   "execution_count": 0,
   "metadata": {
    "application/vnd.databricks.v1+cell": {
     "cellMetadata": {},
     "inputWidgets": {},
     "nuid": "1276196f-3316-441d-883d-7d1d6499a7de",
     "showTitle": false,
     "title": ""
    }
   },
   "outputs": [],
   "source": [
    "%sql\n",
    "SELECT *\n",
    "FROM\n",
    "tmp_view"
   ]
  },
  {
   "cell_type": "markdown",
   "metadata": {
    "application/vnd.databricks.v1+cell": {
     "cellMetadata": {},
     "inputWidgets": {},
     "nuid": "9b925d27-ce3c-467a-bb6d-ae77e5ba5744",
     "showTitle": false,
     "title": ""
    }
   },
   "source": [
    "### [User Input Required] Write Data to the Lake"
   ]
  },
  {
   "cell_type": "code",
   "execution_count": 0,
   "metadata": {
    "application/vnd.databricks.v1+cell": {
     "cellMetadata": {
      "byteLimit": 2048000,
      "rowLimit": 10000
     },
     "inputWidgets": {},
     "nuid": "3a4ac18b-63f7-4e5a-af2b-d141a133e518",
     "showTitle": false,
     "title": ""
    }
   },
   "outputs": [],
   "source": [
    "from pipelines.shared_utils.autoloader_delta_writer import AutoloaderDeltaWriter\n",
    "from pipelines.base_class.data_class import WriteMode, TriggerMode\n",
    "\n",
    "\n",
    "# [User Input Required] Result DataFrame\n",
    "output_df = _sqldf\n",
    "\n",
    "# [User Input Required] Target Location and Write Configuration\n",
    "write_mode = WriteMode.UC_EXTERNAL_TABLE\n",
    "trigger_mode = TriggerMode.BATCH\n",
    "datalake_location: str = \"\"\n",
    "uc_namespace: str = \"\"\n",
    "\n",
    "# [User Input Required]  Instantiate writer classs instance\n",
    "csv_writer: AutoloaderDeltaWriter = AutoloaderDeltaWriter(\n",
    "    df=output_df,\n",
    "    write_mode=write_mode,\n",
    "    trigger_mode=trigger_mode,\n",
    "    data_lake_path=datalake_location,\n",
    "    uc_namespace=uc_namespace,\n",
    ")\n",
    "\n",
    "# [User Input Required] Write data.\n",
    "csv_writer.write_append()\n",
    "\n",
    "# Other options include\n",
    "# csv_writer.write_overwrite()\n",
    "# csv_writer.write_scd_1()\n",
    "# csv_writer.write_scd_2()"
   ]
  }
 ],
 "metadata": {
  "application/vnd.databricks.v1+notebook": {
   "dashboards": [],
   "environmentMetadata": null,
   "language": "python",
   "notebookMetadata": {
    "pythonIndentUnit": 2
   },
   "notebookName": "csv_ingestion_template",
   "widgets": {}
  }
 },
 "nbformat": 4,
 "nbformat_minor": 0
}
